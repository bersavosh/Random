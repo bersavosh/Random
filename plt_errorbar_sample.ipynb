{
 "cells": [
  {
   "cell_type": "code",
   "execution_count": 1,
   "metadata": {
    "collapsed": false,
    "scrolled": false
   },
   "outputs": [
    {
     "name": "stdout",
     "output_type": "stream",
     "text": [
      "object type: <type 'numpy.ndarray'>\n",
      "object shape: (4,)\n",
      "Values:\n",
      "X:              [ 3.69030877  0.95163465  9.10379637  3.57358354]\n",
      "X lower errors: [ 0.46010147  0.74825655  0.79431179  0.03307522]\n",
      "X upper errors: [ 0.54360828  0.9975544   0.88332011  0.93971373] \n",
      "\n",
      "Y:              [ 7.6389807   9.3142493   5.34152741  2.52455206]\n",
      "Y lower errors: [ 0.67781158  0.75648785  0.33501276  0.35753536]\n",
      "Y upper errors: [ 0.66622742  0.66766387  0.67557823  0.8763223 ]\n"
     ]
    },
    {
     "data": {
      "text/plain": [
       "<matplotlib.text.Text at 0x115889f50>"
      ]
     },
     "execution_count": 1,
     "metadata": {},
     "output_type": "execute_result"
    },
    {
     "data": {
      "image/png": "[encoded data removed]",
      "text/plain": [
       "<matplotlib.figure.Figure at 0x111a93050>"
      ]
     },
     "metadata": {},
     "output_type": "display_data"
    }
   ],
   "source": [
    "import matplotlib.pyplot as plt\n",
    "import numpy as np\n",
    "\n",
    "%matplotlib inline\n",
    "\n",
    "# Generating i number of data points with absolutely random numbers:\n",
    "# Values of X and Y being random between 0 and 10 and each side of their errorbars being random between 0 and 1\n",
    "i = 4\n",
    "x = 10*np.random.rand(i)\n",
    "x_er_lo = np.random.rand(i)\n",
    "x_er_up = np.random.rand(i)\n",
    "y = 10*np.random.rand(i)\n",
    "y_er_lo = np.random.rand(i)\n",
    "y_er_up = np.random.rand(i)\n",
    "\n",
    "print 'object type:',type(x)\n",
    "print 'object shape:', np.shape(x)\n",
    "print 'Values:'\n",
    "print 'X:             ', x\n",
    "print 'X lower errors:', x_er_lo\n",
    "print 'X upper errors:', x_er_up,'\\n'\n",
    "print 'Y:             ', y\n",
    "print 'Y lower errors:', y_er_lo\n",
    "print 'Y upper errors:', y_er_up\n",
    "\n",
    "plt.errorbar(x,y,yerr=[y_er_lo,y_er_up],xerr=[x_er_lo,x_er_up],fmt='.')\n",
    "plt.xlabel('X')\n",
    "plt.ylabel('Y')"
   ]
  }
 ],
 "metadata": {
  "kernelspec": {
   "display_name": "Python [default]",
   "language": "python",
   "name": "python2"
  },
  "language_info": {
   "codemirror_mode": {
    "name": "ipython",
    "version": 2
   },
   "file_extension": ".py",
   "mimetype": "text/x-python",
   "name": "python",
   "nbconvert_exporter": "python",
   "pygments_lexer": "ipython2",
   "version": "2.7.13"
  }
 },
 "nbformat": 4,
 "nbformat_minor": 2
}
