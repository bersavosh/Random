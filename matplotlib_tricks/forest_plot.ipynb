{
 "cells": [
  {
   "cell_type": "markdown",
   "metadata": {},
   "source": [
    "## [Forest plot](https://en.wikipedia.org/wiki/Forest_plot) example in matplotlib"
   ]
  },
  {
   "cell_type": "code",
   "execution_count": 1,
   "metadata": {},
   "outputs": [],
   "source": [
    "import numpy as np\n",
    "import matplotlib.pyplot as plt"
   ]
  },
  {
   "cell_type": "code",
   "execution_count": 2,
   "metadata": {},
   "outputs": [
    {
     "data": {
      "image/png": "[encoded data removed]",
      "text/plain": [
       "<Figure size 576x360 with 2 Axes>"
      ]
     },
     "metadata": {
      "needs_background": "light"
     },
     "output_type": "display_data"
    }
   ],
   "source": [
    "ns_mass = np.random.normal(1.4,0.5,5)\n",
    "ns_mass_er = np.random.normal(0.5,0.3,5)\n",
    "ns_names = ['A','B','C','D','E']\n",
    "\n",
    "bh_mass = np.random.normal(10,2,3)\n",
    "bh_mass_er = np.random.normal(2,0.5,3)\n",
    "bh_names = ['G','H','I']\n",
    "\n",
    "plt.figure(figsize=(8,5))\n",
    "plt.errorbar(x=ns_mass,xerr=ns_mass_er,y=ns_names,fmt='o',capsize=1,elinewidth=0.5)\n",
    "# If you want to remove the frame \"spines\":\n",
    "plt.gca().spines[\"left\"].set_visible(False)\n",
    "plt.gca().spines[\"right\"].set_visible(False)\n",
    "plt.gca().spines[\"top\"].set_visible(False)\n",
    "# When you get rid of spines, ticks will still appear and can be misleading, so this will remove the ticks\n",
    "plt.tick_params(axis='y', which='major', length=0)\n",
    "\n",
    "plt.twinx()\n",
    "plt.errorbar(x=bh_mass,xerr=bh_mass_er,y=bh_names,fmt='or',capsize=1,elinewidth=0.5)\n",
    "# If you want to remove the frame \"spines\" (you have to repeat these in the twin frame):\n",
    "plt.gca().spines[\"left\"].set_visible(False)\n",
    "plt.gca().spines[\"right\"].set_visible(False)\n",
    "plt.gca().spines[\"top\"].set_visible(False)\n",
    "# When you get rid of spines, ticks will still appear and can be misleading, so this will remove the ticks\n",
    "plt.tick_params(axis='y', which='major', length=0)"
   ]
  }
 ],
 "metadata": {
  "kernelspec": {
   "display_name": "Python 3",
   "language": "python",
   "name": "python3"
  },
  "language_info": {
   "codemirror_mode": {
    "name": "ipython",
    "version": 3
   },
   "file_extension": ".py",
   "mimetype": "text/x-python",
   "name": "python",
   "nbconvert_exporter": "python",
   "pygments_lexer": "ipython3",
   "version": "3.7.3"
  }
 },
 "nbformat": 4,
 "nbformat_minor": 2
}
