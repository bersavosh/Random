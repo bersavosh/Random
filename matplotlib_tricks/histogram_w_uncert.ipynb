{
 "cells": [
  {
   "cell_type": "code",
   "execution_count": 1,
   "metadata": {},
   "outputs": [],
   "source": []
  },
  {
   "cell_type": "code",
   "execution_count": 8,
   "metadata": {},
   "outputs": [
    {
     "data": {
      "image/png": "[encoded data removed]",
      "text/plain": [
       "<Figure size 432x288 with 1 Axes>"
      ]
     },
     "metadata": {
      "needs_background": "light"
     },
     "output_type": "display_data"
    }
   ],
   "source": [
    "import numpy as np\n",
    "import matplotlib.pyplot as plt\n",
    "\n",
    "data = np.random.normal(10, 3, size=28)\n",
    "error = abs(np.random.normal(2,0.5, size=28))\n",
    "\n",
    "# You need your bin edges set through out \n",
    "nbins = 10\n",
    "niter = 500\n",
    "\n",
    "bins = np.linspace(0,20,nbins+1)\n",
    "\n",
    "main_hist = np.histogram(data,bins=bins)[0]\n",
    "\n",
    "sim = np.empty([niter,nbins])\n",
    "for i in range(niter):\n",
    "    realized = np.random.normal(data,error)\n",
    "    sim[i] = np.histogram(realized,bins=bins)[0]\n",
    "\n",
    "bin_centers = 0.5*(bins[1:]+bins[:-1])\n",
    "bin_err = np.std(sim,axis=0)\n",
    "plt.bar(bin_centers, main, width=1, color='r', yerr=bin_err,capsize=3)\n",
    "plt.ylim(0);\n",
    "plt.savefig('hist_err.jpg',dpi=300)"
   ]
  },
  {
   "cell_type": "code",
   "execution_count": null,
   "metadata": {},
   "outputs": [],
   "source": []
  }
 ],
 "metadata": {
  "kernelspec": {
   "display_name": "Python 3",
   "language": "python",
   "name": "python3"
  },
  "language_info": {
   "codemirror_mode": {
    "name": "ipython",
    "version": 3
   },
   "file_extension": ".py",
   "mimetype": "text/x-python",
   "name": "python",
   "nbconvert_exporter": "python",
   "pygments_lexer": "ipython3",
   "version": "3.7.3"
  }
 },
 "nbformat": 4,
 "nbformat_minor": 2
}
