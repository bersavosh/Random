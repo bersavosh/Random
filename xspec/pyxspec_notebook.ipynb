{
 "cells": [
  {
   "cell_type": "markdown",
   "metadata": {},
   "source": [
    "# An example for PyXSPEC \n",
    "\n",
    "This is a simple example case for using PyXspec. You can find a detailed manual for the package [here](http://heasarc.nasa.gov/docs/xanadu/xspec/python/html/index.html). \n",
    "\n",
    "In this notebook, I use PyXspec to fit multiple X-ray spectra of a transient X-ray source (H 1658-298) obtained over the span of a few months by [Swift/XRT](http://www.swift.ac.uk/index.php) to study the evolution of the outburst (see XXXX). So, the goal of this example is to fit each of the obtained spectra individually with the same model and look for evolution in brightness and parameters in the spectral model."
   ]
  },
  {
   "cell_type": "code",
   "execution_count": 1,
   "metadata": {
    "collapsed": false
   },
   "outputs": [],
   "source": [
    "from xspec import *\n",
    "\n",
    "import numpy as np\n",
    "import glob\n",
    "\n",
    "from astropy.io import fits, ascii\n",
    "from astropy.table import Table, vstack\n",
    "\n",
    "import matplotlib.pyplot as plt\n",
    "from matplotlib import rc\n",
    "rc('font',**{'family':'sans-serif','sans-serif':['Helvetica']})\n",
    "rc('text', usetex=True)\n",
    "rc('font', family='serif')\n",
    "%matplotlib inline"
   ]
  },
  {
   "cell_type": "markdown",
   "metadata": {},
   "source": [
    "Setting XSPEC configurations:"
   ]
  },
  {
   "cell_type": "code",
   "execution_count": 2,
   "metadata": {
    "collapsed": true
   },
   "outputs": [],
   "source": [
    "Xset.abund = \"wilm\"    # Abundance of elements\n",
    "Xset.xsect = \"vern\"    # Cross-section\n",
    "Fit.query = \"yes\"      # default response to XSpec queries\n",
    "Fit.nIterations = 100  # fit iterations for each attemp\n",
    "Plot.device = \"/xs\"    # plotting device, here set to Xwindows\n",
    "Plot.xAxis = \"KeV\"     # X-axis for plotting set to energy instead of channel"
   ]
  },
  {
   "cell_type": "markdown",
   "metadata": {},
   "source": [
    "Finding available spectra (based on previous naming convention) in this folder and making a list of them:"
   ]
  },
  {
   "cell_type": "code",
   "execution_count": 3,
   "metadata": {
    "collapsed": false
   },
   "outputs": [
    {
     "data": {
      "text/plain": [
       "['sw00034002001xpcw3po_spec_src_bin50.pi',\n",
       " 'sw00034002003xwtw2po_spec_src_bin50.pi',\n",
       " 'sw00034002004xwtw2po_spec_seg1_src_bin50.pi',\n",
       " 'sw00034002004xwtw2po_spec_seg2_src_bin50.pi',\n",
       " 'sw00034002004xwtw2po_spec_seg3_src_bin50.pi',\n",
       " 'sw00034002005xwtw2po_spec_seg1_src_bin50.pi',\n",
       " 'sw00034002005xwtw2po_spec_seg2_src_bin50.pi',\n",
       " 'sw00034002005xwtw2po_spec_seg3_src_bin50.pi',\n",
       " 'sw00034002005xwtw2po_spec_seg4_src_bin50.pi',\n",
       " 'sw00034002006xwtw2po_spec_src_bin100.pi',\n",
       " 'sw00034002007xwtw2po_spec_src_bin100.pi',\n",
       " 'sw00034002008xwtw2po_spec_seg1_src_bin50.pi',\n",
       " 'sw00034002008xwtw2po_spec_seg2_src_bin50.pi',\n",
       " 'sw00034002009xwtw2po_spec_src_bin100.pi']"
      ]
     },
     "execution_count": 3,
     "metadata": {},
     "output_type": "execute_result"
    }
   ],
   "source": [
    "datalist=glob.glob('sw*bin*')\n",
    "datalist"
   ]
  },
  {
   "cell_type": "markdown",
   "metadata": {},
   "source": [
    "I want to fit each spectrum individually and record best fit value of model parameters, uncertainties and fit statistics (e.g., to track spectral evolution). In this example I'm going to use Xspec's [pegpwrlw](https://heasarc.gsfc.nasa.gov/xanadu/xspec/manual/XSmodelPegpwrlw.html) model. \n",
    "\n",
    "So I initiate empty lists to populate with fit results. Then with a `for` loop, I go through the spectra listed above and perform fitting and estimating uncertainties.\n",
    "\n",
    "I will also use [astropy.io.fits](http://docs.astropy.org/en/stable/io/fits/) to read important keywords from spectrum file's header (e.g., observation ID, MJD, exposure) and use [astropy.table](http://docs.astropy.org/en/stable/table/) to tabulate results in a desirable foramt. Finally, I use matplotlib to plot the results."
   ]
  },
  {
   "cell_type": "code",
   "execution_count": 4,
   "metadata": {
    "collapsed": false
   },
   "outputs": [
    {
     "data": {
      "text/html": [
       "&lt;Table length=14&gt;\n",
       "<table id=\"table4606539152\" class=\"table-striped table-bordered table-condensed\">\n",
       "<thead><tr><th>Obs.ID</th><th>MJD</th><th>NH</th><th>NH_err-</th><th>NH_err+</th><th>gamma</th><th>gamma_err-</th><th>gamma_err+</th><th>flux</th><th>flux_err-</th><th>flux_err+</th><th>red_chi2</th><th>d.o.f</th></tr></thead>\n",
       "<thead><tr><th>str11</th><th>float64</th><th>float64</th><th>float64</th><th>float64</th><th>float64</th><th>float64</th><th>float64</th><th>float64</th><th>float64</th><th>float64</th><th>float64</th><th>int64</th></tr></thead>\n",
       "<tr><td>00034002001</td><td>57259.728801</td><td>4.00209063639e+21</td><td>5.78560217869e+20</td><td>6.644510245e+20</td><td>1.51160844541</td><td>0.0865901531459</td><td>0.0909020329509</td><td>7.11840661815e-10</td><td>2.92006420758e-11</td><td>2.95713009955e-11</td><td>1.13551092672</td><td>48</td></tr>\n",
       "<tr><td>00034002003</td><td>57270.3546941</td><td>5.88830516923e+21</td><td>7.66567821999e+20</td><td>8.39519421305e+20</td><td>1.65605645209</td><td>0.0940700221224</td><td>0.0980281641584</td><td>1.14548781423e-09</td><td>4.59009550093e-11</td><td>4.72875537755e-11</td><td>0.972867159858</td><td>56</td></tr>\n",
       "<tr><td>00034002004</td><td>57272.217</td><td>6.99685523332e+21</td><td>7.23806759474e+20</td><td>7.7393262251e+20</td><td>1.86478325437</td><td>0.0891379395455</td><td>0.0921836932857</td><td>1.11291951637e-09</td><td>4.2715593355e-11</td><td>4.56042678559e-11</td><td>1.04028647769</td><td>72</td></tr>\n",
       "<tr><td>00034002004</td><td>57272.2831178</td><td>5.19746923242e+21</td><td>6.36079030014e+20</td><td>6.86929102894e+20</td><td>1.63391488422</td><td>0.0821424913333</td><td>0.0850361763419</td><td>1.10994403742e-09</td><td>3.77251939055e-11</td><td>3.84858465748e-11</td><td>1.18050724051</td><td>76</td></tr>\n",
       "<tr><td>00034002004</td><td>57272.9477039</td><td>5.79459642627e+21</td><td>7.84095774475e+20</td><td>8.65423579408e+20</td><td>1.69794095869</td><td>0.0944444491538</td><td>0.0987033687823</td><td>9.0271500883e-10</td><td>3.70353195653e-11</td><td>3.87588408812e-11</td><td>1.54368912466</td><td>57</td></tr>\n",
       "<tr><td>00034002005</td><td>57274.1674603</td><td>4.34948318665e+21</td><td>6.40224752866e+20</td><td>6.89643989621e+20</td><td>1.66625784713</td><td>0.0888955653905</td><td>0.092080712762</td><td>9.76239046248e-10</td><td>3.82731147183e-11</td><td>3.90024431403e-11</td><td>1.23440499664</td><td>58</td></tr>\n",
       "<tr><td>00034002005</td><td>57274.222315</td><td>3.36027697937e+21</td><td>5.40152187234e+20</td><td>5.86160164697e+20</td><td>1.46991869952</td><td>0.084977029505</td><td>0.0878985361527</td><td>9.70228435072e-10</td><td>3.83982279826e-11</td><td>3.88570438369e-11</td><td>0.962302964439</td><td>56</td></tr>\n",
       "<tr><td>00034002005</td><td>57274.288984</td><td>3.25189332418e+21</td><td>7.77303348651e+20</td><td>8.4879902434e+20</td><td>1.42106202049</td><td>0.115549382303</td><td>0.119788913095</td><td>6.11533167237e-10</td><td>3.20647106851e-11</td><td>3.2778066907e-11</td><td>1.19124524499</td><td>34</td></tr>\n",
       "<tr><td>00034002005</td><td>57274.4195394</td><td>4.26731085103e+21</td><td>5.78457078804e+20</td><td>6.19020106964e+20</td><td>1.65372395533</td><td>0.0836797848524</td><td>0.086551753079</td><td>9.65953601155e-10</td><td>3.46321818669e-11</td><td>3.51146927368e-11</td><td>0.883367885145</td><td>65</td></tr>\n",
       "<tr><td>00034002006</td><td>57278.4048029</td><td>5.72741058494e+21</td><td>3.86427628187e+20</td><td>4.03609720612e+20</td><td>1.87904389393</td><td>0.051788189243</td><td>0.0529320318652</td><td>8.00857880232e-10</td><td>1.8391347989e-11</td><td>1.90567913777e-11</td><td>1.79408934975</td><td>98</td></tr>\n",
       "<tr><td>00034002007</td><td>57280.1385534</td><td>6.34863720063e+21</td><td>4.21406525214e+20</td><td>4.4202918093e+20</td><td>1.91066131485</td><td>0.0567023731629</td><td>0.058053877489</td><td>7.85211126716e-10</td><td>1.96380312964e-11</td><td>2.04856519818e-11</td><td>1.13145297306</td><td>84</td></tr>\n",
       "<tr><td>00034002008</td><td>57282.7445394</td><td>6.16946638479e+21</td><td>9.64372974398e+20</td><td>1.06710594788e+21</td><td>1.86319707771</td><td>0.125542421962</td><td>0.131752467302</td><td>6.44878543724e-10</td><td>3.48279358058e-11</td><td>3.81128443346e-11</td><td>1.24677272152</td><td>38</td></tr>\n",
       "<tr><td>00034002008</td><td>57282.8067873</td><td>5.90855731414e+21</td><td>8.25423351243e+20</td><td>8.93819552818e+20</td><td>1.81255056053</td><td>0.101702948867</td><td>0.106004145248</td><td>1.47400538e-09</td><td>6.86328679966e-11</td><td>7.2679828612e-11</td><td>0.832779513159</td><td>47</td></tr>\n",
       "<tr><td>00034002009</td><td>57287.1898313</td><td>5.53532597453e+21</td><td>4.39189632244e+20</td><td>4.6053796243e+20</td><td>2.13871251259</td><td>0.0687095124341</td><td>0.0706984909931</td><td>4.62531695261e-10</td><td>1.53400831144e-11</td><td>1.6458985726e-11</td><td>1.13303111937</td><td>60</td></tr>\n",
       "</table>"
      ],
      "text/plain": [
       "<Table length=14>\n",
       "   Obs.ID        MJD              NH        ...    red_chi2    d.o.f\n",
       "   str11       float64         float64      ...    float64     int64\n",
       "----------- ------------- ----------------- ... -------------- -----\n",
       "00034002001  57259.728801 4.00209063639e+21 ...  1.13551092672    48\n",
       "00034002003 57270.3546941 5.88830516923e+21 ... 0.972867159858    56\n",
       "00034002004     57272.217 6.99685523332e+21 ...  1.04028647769    72\n",
       "00034002004 57272.2831178 5.19746923242e+21 ...  1.18050724051    76\n",
       "00034002004 57272.9477039 5.79459642627e+21 ...  1.54368912466    57\n",
       "00034002005 57274.1674603 4.34948318665e+21 ...  1.23440499664    58\n",
       "00034002005  57274.222315 3.36027697937e+21 ... 0.962302964439    56\n",
       "00034002005  57274.288984 3.25189332418e+21 ...  1.19124524499    34\n",
       "00034002005 57274.4195394 4.26731085103e+21 ... 0.883367885145    65\n",
       "00034002006 57278.4048029 5.72741058494e+21 ...  1.79408934975    98\n",
       "00034002007 57280.1385534 6.34863720063e+21 ...  1.13145297306    84\n",
       "00034002008 57282.7445394 6.16946638479e+21 ...  1.24677272152    38\n",
       "00034002008 57282.8067873 5.90855731414e+21 ... 0.832779513159    47\n",
       "00034002009 57287.1898313 5.53532597453e+21 ...  1.13303111937    60"
      ]
     },
     "execution_count": 4,
     "metadata": {},
     "output_type": "execute_result"
    }
   ],
   "source": [
    "# Initiating arrays to store data (best fit values and errors) for each spectrum\n",
    "\n",
    "# Observation parameters:\n",
    "obs_id = []          # observation id, to be read from fits header of each spectrum\n",
    "mjd = []             # observation MJD, to be read from fits header of each spectrum\n",
    "obs_exp = []         # observation exposure, to be read from fits header of each spectrum\n",
    "\n",
    "# model parameters:\n",
    "pw_nh = []           # hydrogen column density, NH\n",
    "pw_nh_ler = []       # NH lower limit\n",
    "pw_nh_uer = []       # NH upper limit\n",
    "pw_gamma = []        # power law photon index, Gamma\n",
    "pw_gamma_ler = []    # Gamma lower limit\n",
    "pw_gamma_uer = []    # Gamma upper limit\n",
    "pw_flx = []          # Powerlaw normalization, corresponding to flux\n",
    "pw_flx_ler = []      # flux lower limit\n",
    "pw_flx_uer = []      # flux upper limit\n",
    "\n",
    "# Fit parameter\n",
    "fit_chi2 = []        # fit's reduced chi-sqaured\n",
    "fit_dof = []         # fit's degrees of freedom\n",
    "\n",
    "\n",
    "# like Xspec, pyxspec produces significant terminal output. \n",
    "# It is useful to capture this and save it in a log file:\n",
    "Xset.openLog(\"fit_log.txt\")          \n",
    "\n",
    "# The main loop for fitting:\n",
    "for spec in datalist:\n",
    "    # part 1: reading observation parameters:\n",
    "    hdulist = fits.open(spec)                     # Reading the spectrum fits file to identify keywords in header\n",
    "    obs_id.append(hdulist[0].header['OBS_ID'])    # Obs ID\n",
    "    mjd.append(hdulist[0].header['MJD-OBS'])      # Obs MJD\n",
    "    obs_exp.append(hdulist[0].header['EXPOSURE']) # Obs exposure\n",
    "    \n",
    "    # Part 2: pyXspec data preparation and fitting\n",
    "    AllData(spec)                                    # Reading spectrum\n",
    "    AllData.ignore('bad')                         # Ignore bad channels\n",
    "    AllData.ignore('*:10.0-**')                   # Ignore channels above 10 keV\n",
    "\n",
    "    # In this example, I'm using Swift data.\n",
    "    # I want to ignore some channels based on observation mode (Fits header keyword 'DATAMODE')\n",
    "    if hdulist[0].header['DATAMODE'] == 'PHOTON':\n",
    "        AllData.ignore('*:**-0.3')\n",
    "    if hdulist[0].header['DATAMODE'] == 'WINDOWED':\n",
    "        AllData.ignore('*:**-0.5')\n",
    "\n",
    "    # Model and parameters:\n",
    "    m = Model('tbabs*pegpwrlw')                   # Setting Model\n",
    "    # I want to modify some model parameters before fitting:\n",
    "    # Parameter 3 in our model is powerlaw's lower peg energy range:\n",
    "    AllModels(1)(3).values = [0.5]                # Setting parameter 3 to 0.5 keV\n",
    "    AllModels(1)(3).frozen = True                 # Freez parameter 3\n",
    "    \n",
    "    # Performing the fit:\n",
    "    Fit.perform()\n",
    "    \n",
    "    # Checking results and saving values:\n",
    "    Plot('lda del')                               # Plotting the fit: data in log space 'lda' and residuals 'del' \n",
    "    \n",
    "    # Now storing the best fit values for parameters:\n",
    "    # You should be careful about units in Xspec model parameters:\n",
    "    # E.g., here NH is in units of 1e22 cm^-2 and flux (pl normalization) is in units of 1e-12 erg/s/cm2\n",
    "    pw_nh.append(AllModels(1)(1).values[0]*1e22)\n",
    "    pw_gamma.append(AllModels(1)(2).values[0])\n",
    "    pw_flx.append(AllModels(1)(5).values[0]*1e-12)\n",
    "    fit_chi2.append(Fit.statistic/Fit.dof)\n",
    "    fit_dof.append(Fit.dof)\n",
    "    \n",
    "    # Now estimating uncertainties:\n",
    "    Fit.error('maximum 3 1-5')\n",
    "    \n",
    "    # Now 'error' attribute of model parameters are defined\n",
    "    # So we can save upper and lower limits:\n",
    "    pw_nh_ler.append((AllModels(1)(1).values[0]-AllModels(1)(1).error[0])*1e22)\n",
    "    pw_nh_uer.append((AllModels(1)(1).error[1]-AllModels(1)(1).values[0])*1e22)\n",
    "    pw_gamma_ler.append(AllModels(1)(2).values[0]-AllModels(1)(2).error[0])\n",
    "    pw_gamma_uer.append(AllModels(1)(2).error[1]-AllModels(1)(2).values[0])\n",
    "    pw_flx_ler.append((AllModels(1)(5).values[0]-AllModels(1)(5).error[0])*1e-12)\n",
    "    pw_flx_uer.append((AllModels(1)(5).error[1]-AllModels(1)(5).values[0])*1e-12)\n",
    "    \n",
    "# Closing the log file\n",
    "Xset.closeLog()\n",
    "\n",
    "# Tabulating the results:\n",
    "result=Table(data=[obs_id,mjd,pw_nh,pw_nh_ler,pw_nh_uer,pw_gamma,pw_gamma_ler,pw_gamma_uer,\n",
    "                   pw_flx,pw_flx_ler,pw_flx_uer,fit_chi2,fit_dof],\n",
    "             names=['Obs.ID','MJD','NH','NH_err-','NH_err+','gamma','gamma_err-','gamma_err+',\n",
    "                    'flux','flux_err-','flux_err+','red_chi2','d.o.f'])\n",
    "\n",
    "result.sort('MJD')\n",
    "result.write('swift_xrt_monitoring.txt', format='ascii.tab')\n",
    "result"
   ]
  },
  {
   "cell_type": "code",
   "execution_count": 5,
   "metadata": {
    "collapsed": false
   },
   "outputs": [
    {
     "data": {
      "image/png": "[encoded data removed]",
      "text/plain": [
       "<matplotlib.figure.Figure at 0x116803b10>"
      ]
     },
     "metadata": {},
     "output_type": "display_data"
    }
   ],
   "source": [
    "plt.figure(figsize=(10,4))\n",
    "plt.errorbar(mjd,pw_flx,[pw_flx_ler,pw_flx_uer],fmt='.k')\n",
    "plt.yscale('log')\n",
    "plt.ylim(4e-10,2.1e-9)\n",
    "plt.ylabel('Flux (erg/s/cm$^2$)',fontsize=16)\n",
    "plt.xlabel('MJD', fontsize=16)\n",
    "plt.ticklabel_format(axis='x',style='plain' ,useOffset=False)\n",
    "plt.minorticks_on()\n",
    "plt.tick_params(axis='both', which='major', labelsize=16)\n",
    "plt.tick_params(axis='both', which='major', length=9)\n",
    "plt.tick_params(axis='both', which='minor', length=4.5)"
   ]
  }
 ],
 "metadata": {
  "anaconda-cloud": {},
  "kernelspec": {
   "display_name": "Python [default]",
   "language": "python",
   "name": "python2"
  },
  "language_info": {
   "codemirror_mode": {
    "name": "ipython",
    "version": 2
   },
   "file_extension": ".py",
   "mimetype": "text/x-python",
   "name": "python",
   "nbconvert_exporter": "python",
   "pygments_lexer": "ipython2",
   "version": "2.7.13"
  }
 },
 "nbformat": 4,
 "nbformat_minor": 0
}
