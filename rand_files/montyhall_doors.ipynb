{
 "cells": [
  {
   "cell_type": "code",
   "execution_count": 1,
   "metadata": {},
   "outputs": [],
   "source": [
    "import random"
   ]
  },
  {
   "cell_type": "code",
   "execution_count": 8,
   "metadata": {},
   "outputs": [
    {
     "name": "stdout",
     "output_type": "stream",
     "text": [
      "6666010 3333990 10000000\n"
     ]
    }
   ],
   "source": [
    "win = 0\n",
    "lose = 0\n",
    "total = 10000000\n",
    "\n",
    "for i in range(total):\n",
    "    all_doors = ['a','b','c']                                         # Defining the choices (doors)\n",
    "    prize = random.sample(all_doors,1)[0]                             # Choose a random door to be the prize\n",
    "    empty_doors = list(set(all_doors).difference(prize))              # Itentifying the remaining doors as blank\n",
    "    choice1 = random.sample(all_doors,1)[0]                           # Making a random choice between all the doors\n",
    "    if choice1 in empty_doors:                                        # Revealing an empty door\n",
    "        exposed = list(set(empty_doors).difference(choice1))[0]\n",
    "    else:\n",
    "        exposed = random.sample(empty_doors,1)[0]\n",
    "    \n",
    "    choice2 = list(set(all_doors).difference([choice1,exposed]))[0]   # Switching the 1st choice\n",
    "    \n",
    "    # Determining if it was a win:\n",
    "    if choice2 == prize:\n",
    "        win += 1\n",
    "    else:\n",
    "        lose += 1\n",
    "\n",
    "print(win,lose,total)"
   ]
  },
  {
   "cell_type": "code",
   "execution_count": null,
   "metadata": {},
   "outputs": [],
   "source": []
  },
  {
   "cell_type": "code",
   "execution_count": null,
   "metadata": {},
   "outputs": [],
   "source": []
  }
 ],
 "metadata": {
  "kernelspec": {
   "display_name": "Python 3",
   "language": "python",
   "name": "python3"
  },
  "language_info": {
   "codemirror_mode": {
    "name": "ipython",
    "version": 3
   },
   "file_extension": ".py",
   "mimetype": "text/x-python",
   "name": "python",
   "nbconvert_exporter": "python",
   "pygments_lexer": "ipython3",
   "version": "3.7.3"
  }
 },
 "nbformat": 4,
 "nbformat_minor": 2
}
