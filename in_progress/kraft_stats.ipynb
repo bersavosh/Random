{
 "cells": [
  {
   "cell_type": "code",
   "execution_count": 1,
   "metadata": {},
   "outputs": [],
   "source": [
    "import numpy as np\n",
    "from math import factorial\n",
    "from scipy.optimize import minimize\n",
    "from scipy.integrate import quad\n",
    "import matplotlib.pyplot as plt"
   ]
  },
  {
   "cell_type": "code",
   "execution_count": 2,
   "metadata": {},
   "outputs": [],
   "source": [
    "def kraft_posterior(S, N, B):\n",
    "    cn = 0\n",
    "    for n in np.arange(0,N+1):\n",
    "        cn += (np.exp(-B) * B**n)/factorial(n)\n",
    "    C = cn**-1\n",
    "    return C * (np.exp(- S - B) * (S + B)**N) / factorial(N)\n",
    "\n",
    "\n",
    "def kraft_posterior_root(S, N, B, Y):\n",
    "    return abs(kraft_posterior(S, N, B) - Y)\n",
    "\n",
    "\n",
    "def kraft_posterior_prob(Y, N, B):\n",
    "    lolim = minimize(kraft_posterior_root, N-B-1, args=(N,B,Y),method='Nelder-Mead')['x'][0]\n",
    "    if lolim < 0.0:\n",
    "        lolim = 0.0\n",
    "    uplim = minimize(kraft_posterior_root, N+B+1, args=(N,B,Y),method='Nelder-Mead')['x'][0]\n",
    "    if uplim < 0.0:\n",
    "        uplim = 0.0\n",
    "    return lolim, uplim, quad(kraft_posterior, lolim, uplim, args=(N,B))[0]\n",
    "\n",
    "\n",
    "def kraft_post_prob_root(Y, N, B, cl):\n",
    "    return abs(kraft_posterior_prob(Y, N, B)[2] - cl)\n",
    "\n",
    "\n",
    "def kraft(N, B, cl):\n",
    "    starting_point = 0.5*kraft_posterior(N-B, N, B)\n",
    "    return kraft_posterior_prob(minimize(kraft_post_prob_root, starting_point, (N, B, cl), method='Nelder-Mead')['x'], N, B)"
   ]
  },
  {
   "cell_type": "code",
   "execution_count": 17,
   "metadata": {},
   "outputs": [
    {
     "data": {
      "image/png": "[encoded data removed]",
      "text/plain": [
       "<Figure size 432x288 with 1 Axes>"
      ]
     },
     "metadata": {
      "needs_background": "light"
     },
     "output_type": "display_data"
    }
   ],
   "source": [
    "x = np.linspace(0,15,1000)\n",
    "y = kraft_posterior(x, 4, 4)\n",
    "plt.plot(x,y)\n",
    "plt.xlabel(r'$N_{src} = N_{tot} - N_{bkg}$')\n",
    "plt.ylabel('PDF')\n",
    "plt.savefig('kraft.png')"
   ]
  },
  {
   "cell_type": "code",
   "execution_count": 9,
   "metadata": {},
   "outputs": [
    {
     "data": {
      "text/plain": [
       "(0.9534812819660579, 1.0585768727878285e-14)"
      ]
     },
     "execution_count": 9,
     "metadata": {},
     "output_type": "execute_result"
    }
   ],
   "source": [
    "quad(kraft_posterior, 0, 6, args=(4,4))"
   ]
  },
  {
   "cell_type": "code",
   "execution_count": null,
   "metadata": {},
   "outputs": [],
   "source": []
  }
 ],
 "metadata": {
  "kernelspec": {
   "display_name": "Python 3",
   "language": "python",
   "name": "python3"
  },
  "language_info": {
   "codemirror_mode": {
    "name": "ipython",
    "version": 3
   },
   "file_extension": ".py",
   "mimetype": "text/x-python",
   "name": "python",
   "nbconvert_exporter": "python",
   "pygments_lexer": "ipython3",
   "version": "3.6.9"
  }
 },
 "nbformat": 4,
 "nbformat_minor": 2
}
