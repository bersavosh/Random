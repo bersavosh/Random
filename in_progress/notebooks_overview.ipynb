{
 "cells": [
  {
   "cell_type": "markdown",
   "metadata": {},
   "source": [
    "# Jupyter notebooks: tips and tricks\n",
    "\n",
    "\n",
    "## Brief overview of basics:\n",
    "\n",
    "Notebooks (NBs) contain interactive \"blocks\" of codes (with support for various languages like Python, Ruby, Julia, R), and  support for markdown and some latex environments to add text/annotation (like this cell). Markdown is a light language for annotation of documents. I use some Markdown tricks here, but you can look around for more complete guides/cheatsheets like [this one](http://nestacms.com/docs/creating-content/markdown-cheat-sheet).\n",
    "\n",
    "Jupyter notebooks have grown substantially over the last few years and there are **a lot** of different things you can do in them and lots of tips/tricks. Here I try to briefly mention the ones I have found useful and give links to online resources for thorough guides. \n",
    "\n",
    "This is a good article if you're new to notebooks: [Jupyter Notebook for Beginners: A Tutorial](https://www.dataquest.io/blog/jupyter-notebook-tutorial/) \n",
    "\n",
    "If you have this notebook open with a Jupyter server, double click this cell to see the underlying markdown stuff I used to make it appear like this. Then you can press <kbd>shift</kbd> + <kbd>enter</kbd> to render it.\n",
    "\n",
    "## Code continuity\n",
    "One important thing in NBs is that the active NB Kernel (which restarts every time you **start** a NB; not necessarily when you re-open it) remembers the order in which you executed the cells, and does not care about their order of appearance, or if you delete a cell after execution. This can lead to an entangled mess of code. \n",
    "\n",
    "Example:"
   ]
  },
  {
   "cell_type": "code",
   "execution_count": 6,
   "metadata": {},
   "outputs": [],
   "source": [
    "x = 5\n",
    "\n",
    "def important_function(x):\n",
    "    return x**2"
   ]
  },
  {
   "cell_type": "code",
   "execution_count": 7,
   "metadata": {},
   "outputs": [
    {
     "name": "stdout",
     "output_type": "stream",
     "text": [
      "now x is: 6\n",
      "and the function returns: 36\n"
     ]
    }
   ],
   "source": [
    "x += 1\n",
    "print(f'now x is: {x}')\n",
    "print(f'and the function returns: {important_function(x)}')"
   ]
  },
  {
   "cell_type": "code",
   "execution_count": 3,
   "metadata": {},
   "outputs": [],
   "source": [
    "x = 200\n",
    "important_function = 'potato'"
   ]
  },
  {
   "cell_type": "markdown",
   "metadata": {},
   "source": [
    "If you are exploring something in your notebook (some new data, new analysis method, etc), getting non-consecutive\n",
    "cells can happen. To reduce this you can:\n",
    "- Every once in a while, when a step becomes clear, go back and check the flow down to the last clear step.\n",
    "- Make sure your notebook works when you restart the kernel and run cells consecutively (e.g., by selecting \"Restart & Run All\" from the \"Kernel\" menu).\n",
    "- Keep track of definitions (e.g., using print statements or NB extensions; see below)"
   ]
  },
  {
   "cell_type": "markdown",
   "metadata": {},
   "source": [
    "## Things to talk about:\n",
    "- code continuity, cell execution order; suggestion about code structure\n",
    "- keyboard shortcuts\n",
    "- exploring packages/modules/functions docs and their associated properties/attributes in the notebook\n",
    "- displaying data/tables/plots\n",
    "- magic commands\n",
    "- markdown and latex\n",
    "- NB extensions\n",
    "- Advanced latex\n",
    "- How to share/display NBs (github/gitlab/etc, NBviewer, clouds)\n",
    "- remote access\n",
    "- cloud services\n",
    "- multi-language notebooks\n",
    "\n",
    "- making Jupyter notebooks recognize different environments:\n",
    "```\n",
    "`jupyter kernelspec list` tells you which kernals are installed\n",
    "`jupyter kernelspec install ~/anaconda3/share/jupyter/kernels/python3` adds python 3\n",
    "```"
   ]
  },
  {
   "cell_type": "code",
   "execution_count": 48,
   "metadata": {},
   "outputs": [
    {
     "ename": "NameError",
     "evalue": "name 'x' is not defined",
     "output_type": "error",
     "traceback": [
      "\u001b[0;31m---------------------------------------------------------------------------\u001b[0m",
      "\u001b[0;31mNameError\u001b[0m                                 Traceback (most recent call last)",
      "\u001b[0;32m<ipython-input-48-6fcf9dfbd479>\u001b[0m in \u001b[0;36m<module>\u001b[0;34m\u001b[0m\n\u001b[0;32m----> 1\u001b[0;31m \u001b[0mx\u001b[0m\u001b[0;34m\u001b[0m\u001b[0;34m\u001b[0m\u001b[0m\n\u001b[0m",
      "\u001b[0;31mNameError\u001b[0m: name 'x' is not defined"
     ]
    }
   ],
   "source": [
    "x"
   ]
  },
  {
   "cell_type": "code",
   "execution_count": null,
   "metadata": {},
   "outputs": [],
   "source": []
  }
 ],
 "metadata": {
  "kernelspec": {
   "display_name": "Python 3",
   "language": "python",
   "name": "python3"
  },
  "language_info": {
   "codemirror_mode": {
    "name": "ipython",
    "version": 3
   },
   "file_extension": ".py",
   "mimetype": "text/x-python",
   "name": "python",
   "nbconvert_exporter": "python",
   "pygments_lexer": "ipython3",
   "version": "3.6.9"
  },
  "latex_envs": {
   "LaTeX_envs_menu_present": true,
   "autoclose": false,
   "autocomplete": false,
   "bibliofile": "biblio.bib",
   "cite_by": "apalike",
   "current_citInitial": 1,
   "eqLabelWithNumbers": true,
   "eqNumInitial": 1,
   "hotkeys": {
    "equation": "Ctrl-E",
    "itemize": "Ctrl-I"
   },
   "labels_anchors": false,
   "latex_user_defs": false,
   "report_style_numbering": false,
   "user_envs_cfg": false
  },
  "toc": {
   "base_numbering": 1,
   "nav_menu": {},
   "number_sections": true,
   "sideBar": true,
   "skip_h1_title": true,
   "title_cell": "Table of Contents",
   "title_sidebar": "Contents",
   "toc_cell": false,
   "toc_position": {},
   "toc_section_display": true,
   "toc_window_display": false
  },
  "varInspector": {
   "cols": {
    "lenName": 16,
    "lenType": 16,
    "lenVar": 40
   },
   "kernels_config": {
    "python": {
     "delete_cmd_postfix": "",
     "delete_cmd_prefix": "del ",
     "library": "var_list.py",
     "varRefreshCmd": "print(var_dic_list())"
    },
    "r": {
     "delete_cmd_postfix": ") ",
     "delete_cmd_prefix": "rm(",
     "library": "var_list.r",
     "varRefreshCmd": "cat(var_dic_list()) "
    }
   },
   "oldHeight": 122,
   "position": {
    "height": "144px",
    "left": "1070px",
    "right": "20px",
    "top": "120px",
    "width": "350px"
   },
   "types_to_exclude": [
    "module",
    "function",
    "builtin_function_or_method",
    "instance",
    "_Feature"
   ],
   "varInspector_section_display": "block",
   "window_display": false
  }
 },
 "nbformat": 4,
 "nbformat_minor": 2
}
